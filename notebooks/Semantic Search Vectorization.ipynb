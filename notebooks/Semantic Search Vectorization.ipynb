{
 "cells": [
  {
   "cell_type": "code",
   "execution_count": 1,
   "id": "77a7d8f0",
   "metadata": {},
   "outputs": [],
   "source": [
    "import numpy as np\n",
    "import pandas as pd\n",
    "import os\n",
    "import pickle"
   ]
  },
  {
   "cell_type": "code",
   "execution_count": 4,
   "id": "205b64f7",
   "metadata": {},
   "outputs": [
    {
     "name": "stdout",
     "output_type": "stream",
     "text": [
      "                         name  \\\n",
      "0                   10 Scotts   \n",
      "1  15 Stamford By Alvin Leung   \n",
      "2                 21 on Rajah   \n",
      "3                  25 Degrees   \n",
      "4                       665°F   \n",
      "\n",
      "                                                text  \n",
      "0  there were flys when i had deserts course. the...  \n",
      "1  eel congee was cold, rest of the dishes was ju...  \n",
      "2  the whole experience was the most absolute per...  \n",
      "3  we were walking around all day and needed some...  \n",
      "4  service was terrible. slow unattentive unwelco...  \n"
     ]
    }
   ],
   "source": [
    "reviews_by_restaurant = []\n",
    "restaurant_names = []\n",
    "for filename in os.listdir('reviews'):\n",
    "    df = pd.read_csv('reviews/' + filename)\n",
    "    combined = ' '.join(df['review'].to_list()).lower().strip()\n",
    "    reviews_by_restaurant.append(combined)\n",
    "    restaurant_names.append(filename[:-4])\n",
    "df = pd.DataFrame({'name': restaurant_names, 'text': reviews_by_restaurant})\n",
    "print(df.head())"
   ]
  },
  {
   "cell_type": "code",
   "execution_count": 27,
   "id": "66b69a2c",
   "metadata": {},
   "outputs": [
    {
     "name": "stdout",
     "output_type": "stream",
     "text": [
      "(429, 35964)\n",
      "(429, 35964)\n",
      "14                                 Arbora\n",
      "103                 Dusk Restaurant & Bar\n",
      "105        East Coast Lagoon Food Village\n",
      "210                      Marche Movenpick\n",
      "129           Fu Lin Men Cantonese Dining\n",
      "354              The Chop House Vivo City\n",
      "333                          Straits Cafe\n",
      "263                             PeraMakan\n",
      "343    Tamarind Hill Singapore By Samadhi\n",
      "265                           Pietrasanta\n",
      "141                                  GRUB\n",
      "122                                  Flnt\n",
      "107                                elemen\n",
      "24                                  Atout\n",
      "298                           Riders Cafe\n",
      "179             La Braceria Pizza & Grill\n",
      "Name: name, dtype: object\n"
     ]
    }
   ],
   "source": [
    "from sklearn.feature_extraction.text import TfidfVectorizer\n",
    "from sklearn.metrics.pairwise import cosine_similarity\n",
    "\n",
    "vectorizer = TfidfVectorizer()\n",
    "vectors = vectorizer.fit_transform(df['text'])\n",
    "print(vectors.shape)\n",
    "vector_df = pd.DataFrame(vectors.toarray(), columns = [i for i in range(vectors.shape[1])])\n",
    "print(vector_df.shape)\n",
    "vector_df['name'] = df['name']\n",
    "\n",
    "query = 'cable car'\n",
    "query_vector = vectorizer.transform([query])\n",
    "similarity_scores = cosine_similarity(query_vector, vectors)\n",
    "\n",
    "df['similarity_scores'] = similarity_scores[0]\n",
    "df = df.sort_values(by='similarity_scores', ascending=False)\n",
    "relevant_results = df['name'][:16]\n",
    "print(relevant_results)"
   ]
  },
  {
   "cell_type": "code",
   "execution_count": 21,
   "id": "0c42387b",
   "metadata": {},
   "outputs": [],
   "source": [
    "vector_df.to_csv('restaurant_vectors.csv', index=False)"
   ]
  },
  {
   "cell_type": "code",
   "execution_count": 22,
   "id": "41108d82",
   "metadata": {},
   "outputs": [],
   "source": [
    "out = open('query_vectorizer.pkl', 'wb')\n",
    "pickle.dump(vectorizer, out)"
   ]
  },
  {
   "cell_type": "code",
   "execution_count": 23,
   "id": "ba2471d1",
   "metadata": {},
   "outputs": [],
   "source": [
    "out.close()"
   ]
  },
  {
   "cell_type": "code",
   "execution_count": 26,
   "id": "2bc739b3",
   "metadata": {},
   "outputs": [],
   "source": [
    "similarity_scores = cosine_similarity(query_vector, vector_df.drop(['name'], axis=1))"
   ]
  },
  {
   "cell_type": "code",
   "execution_count": null,
   "id": "8bf2c4a4",
   "metadata": {},
   "outputs": [],
   "source": []
  }
 ],
 "metadata": {
  "kernelspec": {
   "display_name": "Python 3 (ipykernel)",
   "language": "python",
   "name": "python3"
  },
  "language_info": {
   "codemirror_mode": {
    "name": "ipython",
    "version": 3
   },
   "file_extension": ".py",
   "mimetype": "text/x-python",
   "name": "python",
   "nbconvert_exporter": "python",
   "pygments_lexer": "ipython3",
   "version": "3.9.12"
  }
 },
 "nbformat": 4,
 "nbformat_minor": 5
}
